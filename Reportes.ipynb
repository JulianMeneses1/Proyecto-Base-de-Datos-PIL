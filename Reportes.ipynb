{
 "cells": [
  {
   "cell_type": "code",
   "execution_count": 7,
   "metadata": {},
   "outputs": [],
   "source": [
    "from sqlalchemy import func, between, and_\n",
    "from Configuracion_BD import crear_conexion,obtener_sesion\n",
    "import Tablas.Campus as Campus, Tablas.Carreras as Carreras, Tablas.Ciudades as Ciudades, Tablas.Municipios as Municipios, Tablas.Facultades as Facultades, Tablas.Paises as Paises, Tablas.Personas_carreras as Personas_carreras, Tablas.Personas as Personas, Tablas.Programas as Programas, Tablas.Provincias as Provincias, Tablas.Ramas as Ramas, Tablas.Tipo_persona as Tipo_persona, Tablas.Ubicaciones as Ubicaciones, Tablas.Genero as Genero\n",
    "\n",
    "base_mysql=\"pil_trabajo_practico\"  # nombre de la base de datos\n",
    "\n",
    "engine_mysql = crear_conexion(\"mysql\",\"root\",\"Contadores2\",\"127.0.0.1:4000\",base_mysql) # Conexión a la base de datos\n",
    "\n",
    "session_mysql = obtener_sesion(engine_mysql) # abro la sesión en la conexión establecida"
   ]
  },
  {
   "cell_type": "markdown",
   "metadata": {},
   "source": [
    "#### Consulta cantidad de alumnos por carrera"
   ]
  },
  {
   "cell_type": "code",
   "execution_count": null,
   "metadata": {},
   "outputs": [],
   "source": [
    "resultados=session_mysql.query(Programas.Programas.nombre,func.count(Personas_carreras.Personas_Carreras.carrera_id)).select_from(Personas.Personas).join(Personas_carreras.Personas_Carreras).join(Carreras.Carreras).join(Programas.Programas).filter(Personas.Personas.tipo_id==2).group_by(Programas.Programas.nombre)\n",
    "for x in resultados:\n",
    "    print(f\"En la carrera {x[0]} hay inscriptos {x[1]} estudiantes\")"
   ]
  },
  {
   "cell_type": "markdown",
   "metadata": {},
   "source": [
    "#### Consulta cantidad de profesores por carrera"
   ]
  },
  {
   "cell_type": "code",
   "execution_count": null,
   "metadata": {},
   "outputs": [],
   "source": [
    "resultados=session_mysql.query(Programas.Programas.nombre,func.count(Personas_carreras.Personas_Carreras.carrera_id)).select_from(Personas.Personas).join(Personas_carreras.Personas_Carreras).join(Carreras.Carreras).join(Programas.Programas).filter(Personas.Personas.tipo_id==1).group_by(Programas.Programas.nombre)\n",
    "for x in resultados:\n",
    "    print(f\"En la carrera {x[0]} hay {x[1]} profesores\")  "
   ]
  },
  {
   "cell_type": "markdown",
   "metadata": {},
   "source": [
    "#### Consulta con el detalle de la cantidad de alumnos por provincia de origen y carrera que cursan"
   ]
  },
  {
   "cell_type": "code",
   "execution_count": null,
   "metadata": {},
   "outputs": [],
   "source": [
    "resultados=session_mysql.query(Provincias.Provincias.nombre,Personas.Personas.nombre,Programas.Programas.nombre).select_from(Personas.Personas).join(Ubicaciones.Ubicaciones).join(Provincias.Provincias).join(Personas_carreras.Personas_Carreras).join(Carreras.Carreras).join(Programas.Programas).group_by(Provincias.Provincias.nombre,Personas.Personas.nombre).order_by(Provincias.Provincias.nombre).filter(Personas.Personas.tipo_id==2)\n",
    "for x in resultados:\n",
    "    print(f\"Provincia: {x[0]}, estudiante: {x[1]}, carrera que cursa: {x[2]}\")"
   ]
  },
  {
   "cell_type": "markdown",
   "metadata": {},
   "source": [
    "#### Consulta distribución de alumnos por carrera y grupo etario"
   ]
  },
  {
   "cell_type": "markdown",
   "metadata": {},
   "source": [
    "##### Menores a 20 años"
   ]
  },
  {
   "cell_type": "code",
   "execution_count": null,
   "metadata": {},
   "outputs": [],
   "source": [
    "\n",
    "resultados=session_mysql.query(Programas.Programas.nombre,Personas.Personas.nombre,Personas.Personas.age).select_from(Personas.Personas).join(Personas_carreras.Personas_Carreras).join(Carreras.Carreras).join(Programas.Programas).group_by(Programas.Programas.nombre,Personas.Personas.nombre).where(and_(Personas.Personas.age<20,Personas.Personas.tipo_id==2))\n",
    "for x in resultados:\n",
    "    print(x)\n"
   ]
  },
  {
   "cell_type": "markdown",
   "metadata": {},
   "source": [
    "##### Entre 20 y 30 años"
   ]
  },
  {
   "cell_type": "code",
   "execution_count": null,
   "metadata": {},
   "outputs": [],
   "source": [
    "resultados=session_mysql.query(Programas.Programas.nombre,Personas.Personas.nombre,Personas.Personas.age).select_from(Personas.Personas).join(Personas_carreras.Personas_Carreras).join(Carreras.Carreras).join(Programas.Programas).group_by(Programas.Programas.nombre,Personas.Personas.nombre).where(and_(Personas.Personas.age.between(20,30),Personas.Personas.tipo_id==2))\n",
    "for x in resultados:\n",
    "    print(x)"
   ]
  },
  {
   "cell_type": "markdown",
   "metadata": {},
   "source": [
    "##### Mayores a 30 años"
   ]
  },
  {
   "cell_type": "code",
   "execution_count": null,
   "metadata": {},
   "outputs": [],
   "source": [
    "resultados=session_mysql.query(Programas.Programas.nombre,Personas.Personas.nombre,Personas.Personas.age).select_from(Personas.Personas).join(Personas_carreras.Personas_Carreras).join(Carreras.Carreras).join(Programas.Programas).group_by(Programas.Programas.nombre,Personas.Personas.nombre).where(and_(Personas.Personas.age>30,Personas.Personas.tipo_id==2))\n",
    "for x in resultados:\n",
    "    print(x)"
   ]
  },
  {
   "cell_type": "markdown",
   "metadata": {},
   "source": [
    "#### Consulta listado de profesores relacionado con cada alumno"
   ]
  },
  {
   "cell_type": "code",
   "execution_count": null,
   "metadata": {},
   "outputs": [],
   "source": [
    "profesores= session_mysql.query(Personas_carreras.Personas_Carreras).join(Carreras.Carreras).join(Personas.Personas).filter(Personas.Personas.tipo_id==1).order_by(Personas.Personas.nombre)\n",
    "for profe in profesores:\n",
    "    lista_alumnos=[]   \n",
    "    alumnosporprofesor= session_mysql.query(Personas_carreras.Personas_Carreras).join(Carreras.Carreras).join(Programas.Programas).join(Personas.Personas).filter(and_(Personas.Personas.tipo_id==2,profe.carrera==Personas_carreras.Personas_Carreras.carrera))\n",
    "    for alumno in alumnosporprofesor:        \n",
    "        lista_alumnos.append(alumno.persona.nombre)\n",
    "    print(f\"El profesor {profe.persona.nombre} en la carrera {profe.carrera.programa.nombre} tiene a los siguientes alumnos: {lista_alumnos} \\n\")"
   ]
  }
 ],
 "metadata": {
  "kernelspec": {
   "display_name": "Python 3.10.7 64-bit",
   "language": "python",
   "name": "python3"
  },
  "language_info": {
   "codemirror_mode": {
    "name": "ipython",
    "version": 3
   },
   "file_extension": ".py",
   "mimetype": "text/x-python",
   "name": "python",
   "nbconvert_exporter": "python",
   "pygments_lexer": "ipython3",
   "version": "3.10.7"
  },
  "orig_nbformat": 4,
  "vscode": {
   "interpreter": {
    "hash": "e913b7897ac30ba1cf0615ffc95e0dcac655edcf15ece0252fa093eec079069f"
   }
  }
 },
 "nbformat": 4,
 "nbformat_minor": 2
}
