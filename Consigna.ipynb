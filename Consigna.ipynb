{
 "cells": [
  {
   "cell_type": "markdown",
   "metadata": {},
   "source": [
    "## Contexto"
   ]
  },
  {
   "cell_type": "markdown",
   "metadata": {},
   "source": [
    "Una entidad educativa se encuentra en un proceso de migración de sistemas, cuyo objetivo busca lograr la limpieza y estandarización de sus datos.\n",
    "Para ello provee fuentes de datos contenidos en diferentes archivos en formato csv.\n",
    "\n",
    "Dicha entidad contrata nuestros servicios para crear una aplicación que permita la importación de los datos a una base de datos, con las siguientes consideraciones:\n",
    "\n",
    "* Los datos insertados en las diferentes tablas deben ser únicos, por lo que se deberá revisar la consistencia y eliminar aquellos que estén repetidos. El campo de personal_id (DNI) es de tipo texto y hay que transformarlo en tipo número. (O)\n",
    "* Cada tabla creada debe contar un un campo que haga referencia a la fecha y hora de la inserción del registro, como así también otro con la fecha y hora de modificación. (J)\n",
    "* Se debe analizar toda la información de cada fuente de datos y diseñar un modelo de entidad / relación que permita disgregar en tablas principales y de catálogo manteniendo la respectiva relación.(ejemplo género, localidades, etc.) (J)\n",
    "* Las tablas catálogo deben ser universales, de manera que puedan ser relacionadas por mas de una tabla actual o futura. (J)\n",
    "* La solución debe ser modularizada, con el fin de poder reutilizar parte del código en futuros desarrollos sin que esto afecte su normal funcionamiento. (O)\n",
    "* Cada función o procedimiento debe estar debidamente documentada para que cualquier equipo de desarrollo actual o futuro conozca el funcionamiento si necesidad de leer/interpretar el código. (A)\n",
    "* Luego de la migración de los datos, se debe entregar reportes para respaldar la integridad de la información. (A)"
   ]
  },
  {
   "cell_type": "markdown",
   "metadata": {},
   "source": [
    "## Metadata\n",
    "\n",
    "#### Alumnos (alumnos.csv)\n",
    "1. first_name: Nombre del alumno\n",
    "2. last_name: Apellido del alumno\n",
    "3. gender: Género\n",
    "4. birthdate: Fecha de nacimiento\n",
    "5. personal_id: Número de identificación del alumno (Cédula de identidad)\n",
    "6. country: Pais\n",
    "7. city: Ciudad\n",
    "8. town: Municipio \n",
    "9. state: Provincia \n",
    "10. program: Carrera que cursa el alumno\n",
    "\n",
    "#### Profesores (profesores.csv)\n",
    "*Un profesor puede estar inscripto en mas de una carrera, pero no puede estar mas de una vez en la misma.*\n",
    "1. first_name: Nombre del profesor\n",
    "2. last_name: Apellido del profesor\n",
    "3. gender: Género\n",
    "4. birthdate: Fecha de nacimiento\n",
    "5. personal_id: Número de identificación del profesor (Cédula de identidad)\n",
    "6. country: Pais\n",
    "7. city: Ciudad\n",
    "8. town: Municipio \n",
    "9. state: Provincia \n",
    "\n",
    "### Distribución de carreras y profesores (cursos_profesores.csv)\n",
    "1. program: Carrera\n",
    "2. branch:Rama\n",
    "3. institute: Facultad\n",
    "4. campus: Nombre del campus\n",
    "5. instructor: Identificación personal del profesor (Cédula de identidad)\n"
   ]
  },
  {
   "cell_type": "markdown",
   "metadata": {},
   "source": [
    "## Reportes\n",
    "\n",
    "La aplicación debe contar con la capacidad de generar al menos los siguientes reportes:  \n",
    "\n",
    "* Listado con la cantidad de alumnos por carreas  \n",
    "* Listado con la cantidad de profesores por carreas  \n",
    "* Listado con el detalle de la cantidad de alumnos por provincia de origen y carrera que cursan  \n",
    "* Distribución de alumnos por carrea y grupo etario (<20 años, entre 20 años y 30 años, >30 años)  \n",
    "* Listado de profesores relacionado con cada alumno  \n"
   ]
  },
  {
   "cell_type": "markdown",
   "metadata": {},
   "source": [
    "## Tener en cuenta"
   ]
  },
  {
   "cell_type": "markdown",
   "metadata": {},
   "source": [
    "* Tablas de catálogo (no principales) a hacer:\n",
    "    * -Una con el género\n",
    "    * -Una con la localidad (Ciudad - Municipio - Provincia)\n",
    "    * -Una con las carreras (Programa). A su vez esta tabla va a estar vinculada a la de instituciones, ramas y campus.\n",
    "    * -Una con la institución\n",
    "    * -Una con la rama\n",
    "    * -Una con el campus\n",
    "\n",
    "    Después los identificadores (primary key) de estas tablas hay que insertarlos como claves foráneas en las tablas de alumnos y profesores. Entre carreras y profesores (esta ya existe, es la de cursos_profesores) y entre carreras y alumnos se va a formar una tabla intermedia.\n",
    "\n",
    "* El campo de personal_id (DNI) es de tipo texto y hay que transformarlo en tipo número. Para esto hay que recorrer la lista de diccionarios (el dataframe) con un for, y asignarle un nuevo valor a la clave personal_id que sería el valor original pero int y usando el método replace para reemplazar los puntos por \"\".\n",
    "\n",
    "* Hay que verificar que los datos no se repitan. En primer lugar hay que comparar los registros enteros (el diccionario) para ver si hay alguno repetido, y en segundo lugar hay que controlar que los campos que son únicos, como personal_id, no se repitan.\n",
    "\n",
    "    <!- para eliminar registros repetidos -->\n",
    "\n",
    "    l = [{\"a\":123,\"b\":1234},{\"a\":3222,\"b\":1234},{\"a\":123,\"b\":1234},{\"a\":123,\"b\":3333}]\n",
    "\n",
    "    lista_unica = set()    \n",
    "    nueva_lista = []       \n",
    "\n",
    "    for d in l:\n",
    "\n",
    "        t = tuple(d.items())\n",
    "        if t not in lista_unica:\n",
    "        \n",
    "            lista_unica.add(t)\n",
    "            nueva_lista.append(d)\n",
    "\n",
    "    print (lista_unica)   \n",
    "    print (nueva_lista)\n",
    "\n",
    "    <!- para eliminar valores repetidos -->\n",
    "    \n",
    "    l = [{\"a\":123,\"b\":1234},{\"a\":3222,\"b\":1234},{\"a\":123,\"b\":1234},{\"a\":123,\"b\":3333}]\n",
    "\n",
    "    \n",
    "    valores_unicos = [] \n",
    "    valores_repetidos = [] \n",
    "\n",
    "    for x in l:\n",
    "        for i,j in x.items():      \n",
    "        if i==\"a\":          \n",
    "                if j not in valores_unicos:        \n",
    "                    valores_unicos.append(j)              \n",
    "                else:            \n",
    "                    valores_repetidos.append (l[l.index(x)])        \n",
    "    for x in l:\n",
    "        if x in valores_repetidos:\n",
    "            del l[l.index(x)]\n",
    "\n",
    "    print(valores_repetidos)\n",
    "    print(l)  \n",
    "\n",
    "\n",
    "* Modularizar el código implica crear diferentes archivos python (módulos) que se importan después en el principal. Por ejemplo la configuración de la conexión a la base de datos se pone en un módulo (el host, el puerto, etc.) y las clases se ponen en otro módulo, que a su vez importa el de la conexión. Después el principal importa el de las clases y a través de este importa el de la conexión.\n",
    "* Campo de fecha y hora del registro: \n",
    "\n",
    "    insert_date = DateTimeField (default=datetime.datetime.now())\n",
    "\n",
    "   Campo de actualización de fecha y hora del registro: \n",
    "\n",
    "    update_date = DateTimeField()\n",
    "\n",
    "  Campo de estado del registro (A=activo, B=baja), se usa para no tener que borrar el registro:\n",
    "  \n",
    "    status= CharField(default=\"A\")"
   ]
  }
 ],
 "metadata": {
  "kernelspec": {
   "display_name": "Python 3.10.7 64-bit",
   "language": "python",
   "name": "python3"
  },
  "language_info": {
   "codemirror_mode": {
    "name": "ipython",
    "version": 3
   },
   "file_extension": ".py",
   "mimetype": "text/x-python",
   "name": "python",
   "nbconvert_exporter": "python",
   "pygments_lexer": "ipython3",
   "version": "3.10.7"
  },
  "vscode": {
   "interpreter": {
    "hash": "e913b7897ac30ba1cf0615ffc95e0dcac655edcf15ece0252fa093eec079069f"
   }
  }
 },
 "nbformat": 4,
 "nbformat_minor": 2
}
