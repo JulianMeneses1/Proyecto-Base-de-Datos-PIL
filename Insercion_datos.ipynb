{
 "cells": [
  {
   "cell_type": "markdown",
   "metadata": {},
   "source": [
    "#### Creación de Tablas"
   ]
  },
  {
   "cell_type": "code",
   "execution_count": 1,
   "metadata": {},
   "outputs": [],
   "source": [
    "import Tablas.Campus as Campus, Tablas.Carreras as Carreras, Tablas.Ciudades as Ciudades, Tablas.Municipios as Municipios, Tablas.Facultades as Facultades, Tablas.Paises as Paises, Tablas.Personas_carreras as Personas_carreras, Tablas.Personas as Personas, Tablas.Programas as Programas, Tablas.Provincias as Provincias, Tablas.Ramas as Ramas, Tablas.Tipo_persona as Tipo_persona, Tablas.Ubicaciones as Ubicaciones, Tablas.Genero as Genero\n",
    "from sqlalchemy import MetaData\n",
    "from Configuracion_BD import crear_conexion, obtener_sesion, Base\n",
    "import pandas as pd\n",
    "\n",
    "meta = MetaData()\t\n",
    "\n",
    "base_general = \"pil_trabajo_practico\"\n",
    "\n",
    "engine_mysql = crear_conexion(\"mysql\",\"root\",\"Contadores2\",\"127.0.0.1:4000\",base_general)\n",
    "\n",
    "session_mysql = obtener_sesion(engine_mysql)\n",
    "\n",
    "Base.metadata.create_all(engine_mysql) # creación de las tablas"
   ]
  },
  {
   "cell_type": "markdown",
   "metadata": {},
   "source": [
    "#### Lectura de los datos contenidos en los archivos csv y generación de los dataframe"
   ]
  },
  {
   "cell_type": "code",
   "execution_count": 2,
   "metadata": {},
   "outputs": [],
   "source": [
    "profesoresDF = pd.read_csv(\"Bases de datos/Profesores.csv\")\n",
    "profesoresDF[\"tipopersona\"]=\"profesor\" # Agregamos esta nueva columna con la constante profesor en el tipo de persona para este DF\n",
    "\n",
    "alumnosDF = pd.read_csv(\"Bases de datos/Alumnos.csv\")\n",
    "alumnosDF[\"tipopersona\"]=\"alumno\" # Agregamos esta nueva columna con la constante alumno en el tipo de persona para este DF\n",
    "\n",
    "cursos_profesoresDF = pd.read_csv(\"Bases de datos/cursos_profesores.csv\")\n",
    "\n",
    "personasDF = pd.concat([profesoresDF, alumnosDF]) # Fusionamos los dataframe de alumnos y profesores"
   ]
  },
  {
   "cell_type": "markdown",
   "metadata": {},
   "source": [
    "#### Generación de los dataset "
   ]
  },
  {
   "cell_type": "code",
   "execution_count": 3,
   "metadata": {},
   "outputs": [],
   "source": [
    "def generar_dataset(DF):\n",
    "\tdataset=[]\n",
    "\tfor index, fila in DF.iterrows():\n",
    "\t\tdataset.append({**fila})\n",
    "\treturn dataset\n",
    "\t\n",
    "dataset_personas= generar_dataset(personasDF)\n",
    "dataset_alumnos= generar_dataset(alumnosDF)\n",
    "dataset_cursos_profesores= generar_dataset(cursos_profesoresDF)"
   ]
  },
  {
   "cell_type": "markdown",
   "metadata": {},
   "source": [
    "#### Extraer valores únicos del campo \"gender\" del dataset Personas y traducirlos al español"
   ]
  },
  {
   "cell_type": "code",
   "execution_count": 4,
   "metadata": {},
   "outputs": [],
   "source": [
    "valores_unicos=[]\n",
    "for x in dataset_personas: # recorremos el dataset\n",
    "    if x[\"gender\"] not in valores_unicos: # si el el valor de gender no está en la lista, lo agregamos a dicha lista \n",
    "            valores_unicos.append(x[\"gender\"])    # de esta forma se obtienen los valores únicos que se utilizan a continuación\n",
    "\n",
    "for x in dataset_personas:\n",
    "    if x[\"gender\"]==\"Female\":\n",
    "        x[\"gender\"]=\"Femenino\"\n",
    "    elif x[\"gender\"]==\"Male\":\n",
    "        x[\"gender\"]=\"Masculino\"\n",
    "    elif x[\"gender\"]==\"Non-binary\":\n",
    "        x[\"gender\"]=\"No-binario\"\n",
    "    elif x[\"gender\"]==\"Polygender\":\n",
    "        x[\"gender\"]=\"Poligénero\"\n",
    "    elif x[\"gender\"]==\"Genderqueer\":\n",
    "        x[\"gender\"]=\"Género queer\"\n",
    "    elif x[\"gender\"]==\"Agender\":\n",
    "        x[\"gender\"]=\"Agénero\"\n",
    "    elif x[\"gender\"]==\"Bigender\":\n",
    "        x[\"gender\"]=\"Bigénero\"\n",
    "    elif x[\"gender\"]==\"Genderfluid\":\n",
    "        x[\"gender\"]=\"Género fluido\" "
   ]
  },
  {
   "cell_type": "markdown",
   "metadata": {},
   "source": [
    "#### Convertir los campos \"personal_id\" e \"instructor\" de str a número"
   ]
  },
  {
   "cell_type": "code",
   "execution_count": 5,
   "metadata": {},
   "outputs": [],
   "source": [
    "def conversion_dni_str_numero(dataset): # función para convertir el formato de los campos personal_id e instructor, que serían el dni, de str a número\n",
    "    for x in dataset: # recorremos el dataset\n",
    "        if \"personal_id\" in x: # seleccionamos la clave personal_id                  \n",
    "            j=x[\"personal_id\"].replace('.','') # eliminamos los puntos mediante el método replace\n",
    "            x[\"personal_id\"]=j # asignamos un nuevo valor a la clave personal_id\n",
    "        if \"instructor\" in x: # lo mismo pero con el campo instructor\n",
    "            j=x[\"instructor\"].replace('.','')\n",
    "            x[\"instructor\"]=j    \n",
    "    \n",
    "conversion_dni_str_numero(dataset_cursos_profesores)\n",
    "conversion_dni_str_numero(dataset_alumnos)\n",
    "conversion_dni_str_numero(dataset_personas)"
   ]
  },
  {
   "cell_type": "markdown",
   "metadata": {},
   "source": [
    "#### Insertar datos en tablas a partir del dataset Personas"
   ]
  },
  {
   "cell_type": "code",
   "execution_count": 6,
   "metadata": {},
   "outputs": [],
   "source": [
    "from sqlalchemy import and_\n",
    "\n",
    "lista_errores_personas= []\n",
    "\n",
    "for fila in dataset_personas:\n",
    "\tsession_mysql.begin() # Iniciamos la sesión\n",
    "\ttry:\n",
    "\t\t\n",
    "\t\t# --------------- Tabla Paises ------------------------------------\n",
    "\n",
    "\t\tpais = session_mysql.query(Paises.Paises).filter(Paises.Paises.nombre == fila['country']).first()\n",
    "\t\tif pais == None : # Con esto sólo creamos un registro si no existe previamente, con lo cual evitamos la repetición de los datos\n",
    "\t\t\tpais = Paises.Paises(nombre=fila['country']) # se crea el objeto\n",
    "\t\t\tsession_mysql.add(pais) # se lo añade, quedándo en la memoria del orm\n",
    "\n",
    "\t\t# --------------- Tabla Ciudades ------------------------------------\n",
    "\n",
    "\t\tciudad = session_mysql.query(Ciudades.Ciudades).filter(Ciudades.Ciudades.nombre == fila['city']).first()\n",
    "\t\tif ciudad == None:\n",
    "\t\t\tciudad = Ciudades.Ciudades(nombre=fila['city'])\n",
    "\t\t\tsession_mysql.add(ciudad)\n",
    "\n",
    "\t\t# --------------- Tabla Municipios ------------------------------------\n",
    "\n",
    "\t\tmunicipio = session_mysql.query(Municipios.Municipios).filter(Municipios.Municipios.nombre == fila['town']).first()\n",
    "\t\tif municipio == None:\n",
    "\t\t\tmunicipio = Municipios.Municipios(nombre=fila['town'])\n",
    "\t\t\tsession_mysql.add(municipio)\n",
    "\n",
    "\t\t# --------------- Tabla Provincias ------------------------------------\n",
    "\n",
    "\t\tprovincia = session_mysql.query(Provincias.Provincias).filter(Provincias.Provincias.nombre == fila['state']).first()\n",
    "\t\tif provincia == None:\n",
    "\t\t\tprovincia = Provincias.Provincias(nombre=fila['state'])\n",
    "\t\t\tsession_mysql.add(provincia)\n",
    "\n",
    "\t\t# --------------- Tabla Ubicaciones ------------------------------------\n",
    "\n",
    "\t\tubicacion = session_mysql.query(Ubicaciones.Ubicaciones).filter(and_ (Ubicaciones.Ubicaciones.pais_id == pais.id , Ubicaciones.Ubicaciones.municipio_id == municipio.id , Ubicaciones.Ubicaciones.provincia_id == provincia.id , Ubicaciones.Ubicaciones.ciudad_id == ciudad.id)).first()\n",
    "\t\tif ubicacion == None:\n",
    "\t\t\tubicacion = Ubicaciones.Ubicaciones(pais=pais, municipio=municipio, provincia=provincia, ciudad=ciudad)\n",
    "\t\t\tsession_mysql.add(ubicacion)\t\n",
    "\n",
    "\t\t# --------------- Tabla Genero ------------------------------------\n",
    "\n",
    "\t\tgenero = session_mysql.query(Genero.Genero).filter(Genero.Genero.nombre == fila['gender']).first()\n",
    "\t\tif genero == None :\n",
    "\t\t\tgenero = Genero.Genero(nombre=fila['gender'])\n",
    "\t\t\tsession_mysql.add(genero)\n",
    "\n",
    "\t\t# --------------- Tabla Tipo_persona ------------------------------------\n",
    "\n",
    "\t\ttipo_persona = session_mysql.query(Tipo_persona.Tipo_Persona).filter(Tipo_persona.Tipo_Persona.nombre == fila['tipopersona']).first()\n",
    "\t\tif tipo_persona == None :\n",
    "\t\t\ttipo_persona = Tipo_persona.Tipo_Persona(nombre=fila['tipopersona'])\n",
    "\t\t\tsession_mysql.add(tipo_persona)\n",
    "\n",
    "\t\t# --------------- Tabla Personas ------------------------------------\t\t\n",
    "\t\t\n",
    "\t\t# La persona se inserta al final porque se necesitan las entidades de género, tipo_persona y ubicación ya cargadas\n",
    "\t\tpersona = session_mysql.query(Personas.Personas).filter(Personas.Personas.personal_id == fila['personal_id'], ).first()\n",
    "\t\tif persona == None :\n",
    "\t\t\tpersona = Personas.Personas( nombre = fila['first_name'], apellido = fila['last_name'], email = fila['email'], birthdate = fila['birthdate'], personal_id = fila['personal_id'],\n",
    "\t\t\t\t\t\t\ttipo_persona = tipo_persona, ubicacion = ubicacion, genero = genero)\n",
    "\t\t\tsession_mysql.add(persona)\n",
    "\n",
    "\t\tsession_mysql.commit() # Finalmente hacemos el commit de todos los registros añadidos para insertarlos en la base\n",
    "\t\n",
    "\texcept Exception as error:\n",
    "\t\tprint(error) \n",
    "\t\tsession_mysql.rollback() # si ocurre algún error, hacemos un rollback revirtiendo todos los datos que hayan sido cargados de un registro en particular\n",
    "\t\tlista_errores_personas.append(fila) # agregamos el registro que produjo el error a una lista, para poder analizarlo después\n",
    "\t\n",
    "\tfinally: \n",
    "\t\tsession_mysql.close()\n",
    "\t\tengine_mysql.dispose()"
   ]
  },
  {
   "cell_type": "markdown",
   "metadata": {},
   "source": [
    "#### Insertar datos en tablas a partir del dataset cursos_profesores"
   ]
  },
  {
   "cell_type": "code",
   "execution_count": 7,
   "metadata": {},
   "outputs": [],
   "source": [
    "lista_errores_cursos_profesores=[]\n",
    "\n",
    "for fila in dataset_cursos_profesores:\n",
    "\tsession_mysql.begin()\n",
    "\ttry:\n",
    "\t\t\n",
    "\t\t# --------------- Tabla Programas ------------------------------------\t\n",
    "\t\t\t\t\n",
    "\t\tprograma = session_mysql.query(Programas.Programas).filter(Programas.Programas.nombre == fila['program']).first()\n",
    "\t\tif programa == None:\n",
    "\t\t\tprograma = Programas.Programas(nombre=fila['program'])\n",
    "\t\t\tsession_mysql.add(programa)\n",
    "\n",
    "\t\t# --------------- Tabla Facultades ------------------------------------\t\n",
    "\n",
    "\t\tfacultad = session_mysql.query(Facultades.Facultades).filter(Facultades.Facultades.nombre == fila['institute']).first()\n",
    "\t\tif facultad == None:\n",
    "\t\t\tfacultad = Facultades.Facultades(nombre=fila['institute'])\n",
    "\t\t\tsession_mysql.add(facultad)\n",
    "\n",
    "\t\t# --------------- Tabla Ramas ------------------------------------\t\n",
    "\n",
    "\t\trama = session_mysql.query(Ramas.Ramas).filter(Ramas.Ramas.nombre == fila['branch']).first()\n",
    "\t\tif rama == None:\n",
    "\t\t\trama = Ramas.Ramas(nombre=fila['branch'])\n",
    "\t\t\tsession_mysql.add(rama)\n",
    "\n",
    "\t\t# --------------- Tabla Campus ------------------------------------\t\t\n",
    "\n",
    "\t\tcampus = session_mysql.query(Campus.Campus).filter(Campus.Campus.nombre == fila['campus']).first()\n",
    "\t\tif campus == None:\n",
    "\t\t\tcampus = Campus.Campus(nombre=fila['campus'])\n",
    "\t\t\tsession_mysql.add(campus)\n",
    "\n",
    "\t\t# --------------- Tabla Carreras ------------------------------------\t\t\n",
    "\n",
    "\t\tcarrera = session_mysql.query(Carreras.Carreras).filter(and_(Carreras.Carreras.campus_id==campus.id,Carreras.Carreras.facultad_id==facultad.id,Carreras.Carreras.rama_id==rama.id,Carreras.Carreras.programa_id==programa.id)).first()\n",
    "\t\tif carrera == None:\n",
    "\t\t\tcarrera = Carreras.Carreras(programa=programa,facultad=facultad,rama=rama,campus=campus) \n",
    "\t\t\tsession_mysql.add(carrera)\n",
    "\n",
    "\t\t# --------------- Tabla Personas_carreras (profesores) ------------------------------------\t\t\t\n",
    "\t\t\n",
    "\t\tprofesor= session_mysql.query(Personas.Personas).filter(Personas.Personas.personal_id==fila['instructor']).first()\t\t\n",
    "\t\tprofesores_carreras=session_mysql.query(Personas_carreras.Personas_Carreras).filter(and_(Personas_carreras.Personas_Carreras.persona_id==profesor.id,Personas_carreras.Personas_Carreras.carrera_id==carrera.id)).first()\n",
    "\t\tif profesores_carreras == None:\n",
    "\t\t\tprofesor_carrera = Personas_carreras.Personas_Carreras(persona_id=profesor.id,carrera_id=carrera.id)\t\t\t\n",
    "\t\t\tsession_mysql.add(profesor_carrera)\n",
    "\n",
    "\t\tsession_mysql.commit()\n",
    "\n",
    "\texcept Exception as error:\n",
    "\t\tprint(error)\t\t\n",
    "\t\tsession_mysql.rollback()\n",
    "\t\tlista_errores_cursos_profesores.append(fila)\n",
    "\t\t\n",
    "\tfinally:\n",
    "\t\tsession_mysql.close()\n",
    "\t\tengine_mysql.dispose()"
   ]
  },
  {
   "cell_type": "code",
   "execution_count": 8,
   "metadata": {},
   "outputs": [],
   "source": [
    "lista_errores_alumnos=[]\n",
    "\n",
    "for fila in dataset_alumnos:\n",
    "\tsession_mysql.begin()\n",
    "\ttry:\n",
    "\n",
    "\t\t# --------------- Tabla Personas_carreras (alumnos) ------------------------------------\t\t\t\n",
    "\n",
    "\t\talumno= session_mysql.query(Personas.Personas).filter(Personas.Personas.personal_id==fila['personal_id']).first()\n",
    "\t\tcarrera= session_mysql.query(Carreras.Carreras).join(Programas.Programas).filter(Programas.Programas.nombre==fila['program']).first()\n",
    "\t\talumnos_carreras=session_mysql.query(Personas_carreras.Personas_Carreras).filter(and_(Personas_carreras.Personas_Carreras.persona_id==alumno.id,\n",
    "\t\tPersonas_carreras.Personas_Carreras.carrera_id==carrera.id)).first()\n",
    "\t\tif alumnos_carreras == None:\n",
    "\t\t\talumno_carrera = Personas_carreras.Personas_Carreras(persona_id=alumno.id,carrera_id=carrera.id)\n",
    "\t\t\tsession_mysql.add(alumno_carrera)\n",
    "\t\tsession_mysql.commit()\n",
    "\t\n",
    "\texcept Exception as error:\n",
    "\t\tprint(error)\t\t\n",
    "\t\tsession_mysql.rollback()\n",
    "\t\tlista_errores_alumnos.append(fila)\n",
    "\t\n",
    "\tfinally:\n",
    "\t\tsession_mysql.close()\n",
    "\t\tengine_mysql.dispose()"
   ]
  }
 ],
 "metadata": {
  "kernelspec": {
   "display_name": "Python 3.10.7 64-bit",
   "language": "python",
   "name": "python3"
  },
  "language_info": {
   "codemirror_mode": {
    "name": "ipython",
    "version": 3
   },
   "file_extension": ".py",
   "mimetype": "text/x-python",
   "name": "python",
   "nbconvert_exporter": "python",
   "pygments_lexer": "ipython3",
   "version": "3.10.7"
  },
  "orig_nbformat": 4,
  "vscode": {
   "interpreter": {
    "hash": "e913b7897ac30ba1cf0615ffc95e0dcac655edcf15ece0252fa093eec079069f"
   }
  }
 },
 "nbformat": 4,
 "nbformat_minor": 2
}
