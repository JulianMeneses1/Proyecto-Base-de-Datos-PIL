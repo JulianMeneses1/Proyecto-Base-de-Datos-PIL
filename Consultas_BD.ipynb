{
 "cells": [
  {
   "cell_type": "markdown",
   "metadata": {},
   "source": [
    "### Lectura de los archivos csv y conversión a sql con creación de tablas"
   ]
  },
  {
   "cell_type": "code",
   "execution_count": 5,
   "metadata": {},
   "outputs": [
    {
     "name": "stdout",
     "output_type": "stream",
     "text": [
      "Tablas creadas con éxito\n"
     ]
    }
   ],
   "source": [
    "from Configuración_BD import engine\n",
    "import pandas as pd\n",
    "\n",
    "db = engine.connect()\n",
    "\n",
    "df_alumnos = pd.read_csv(\"Bases de datos/Alumnos.csv\",sep=\",\") # lee la base de datos \"alumnos\" que está en formato csv y lo guarda en la variable df\n",
    "df_profesores = pd.read_csv(\"Bases de datos/Profesores.csv\",sep=\",\") # lo mismo con \"profesores\"\n",
    "df_cursos_profesores = pd.read_csv(\"Bases de datos/Cursos_profesores.csv\",sep=\",\") # lo mismo con \"cursos_profesores\"\n",
    "\n",
    "\n",
    "try:\n",
    "\tdf_alumnos.to_sql(\"alumnos\", db, if_exists=\"fail\") # convierte el dataframe (df) de alumnos a sql y crea la tabla profes \n",
    "\tdf_profesores.to_sql(\"profesores\", db, if_exists=\"fail\") # lo mismo con \"profesores\"\n",
    "\tdf_cursos_profesores.to_sql(\"cursos_profesores\", db, if_exists=\"fail\") # lo mismo con \"cursos_profesores\" \n",
    "\n",
    "except ValueError as vx:\n",
    "\tprint(vx)\n",
    "except Exception as ex:\n",
    "\tprint (ex)\n",
    "else:\n",
    "\tprint(\"Tablas creadas con éxito\")\n",
    "finally:\t\n",
    "\tdb.close()"
   ]
  },
  {
   "cell_type": "markdown",
   "metadata": {},
   "source": [
    "### Lectura de las tablas y conversión del dataframe a una lista de diccionarios (dataset)"
   ]
  },
  {
   "cell_type": "code",
   "execution_count": 6,
   "metadata": {},
   "outputs": [],
   "source": [
    "df= pd.read_sql(\"select * from alumnos\", engine) # lee la tabla alumnos (sql) y lo guarda en la variable df\n",
    "dataset_alumnos=df.to_dict(\"records\")  # transforma la variable df en un diccionario dividido en registros (dataset_alumnos)\n",
    "\n",
    "db.close()"
   ]
  },
  {
   "cell_type": "code",
   "execution_count": null,
   "metadata": {},
   "outputs": [],
   "source": [
    "df= pd.read_sql(\"select * from profesores\", engine) # lee la tabla profesores (sql) y lo guarda en la variable df\n",
    "dataset_profesores=df.to_dict(\"records\")  # transforma la variable df en un diccionario dividido en registros (dataset_profesores)\n",
    "\n",
    "\n",
    "db.close()"
   ]
  },
  {
   "cell_type": "code",
   "execution_count": null,
   "metadata": {},
   "outputs": [],
   "source": [
    "df= pd.read_sql(\"select * from cursos_profesores\", engine) # lee la tabla cursos_profesores (sql) y lo guarda en la variable df\n",
    "dataset_cursos_profesores=df.to_dict(\"records\")  # transforma la variable df en un diccionario dividido en registros (dataset_cursos_profesores)\n",
    "\n",
    "db.close()"
   ]
  },
  {
   "cell_type": "markdown",
   "metadata": {},
   "source": [
    "#### Eliminando el campo \"index\""
   ]
  },
  {
   "cell_type": "code",
   "execution_count": null,
   "metadata": {},
   "outputs": [],
   "source": [
    "def eliminar_index(dataset):\n",
    "    for x in dataset:\n",
    "        del x[\"index\"]    \n",
    "    print(dataset)\n",
    "\n",
    "        \n",
    "eliminar_index(dataset_alumnos)\n",
    "eliminar_index(dataset_profesores)"
   ]
  },
  {
   "cell_type": "markdown",
   "metadata": {},
   "source": [
    "#### Extraer valores únicos de \"gender\" y traducirlos al español"
   ]
  },
  {
   "cell_type": "code",
   "execution_count": null,
   "metadata": {},
   "outputs": [],
   "source": [
    "def traduccion_gender(dataset):\n",
    "    lista=[]\n",
    "    for x in dataset:\n",
    "        if x[\"gender\"] not in lista:\n",
    "            lista.append(x[\"gender\"])\n",
    "    print(lista)\n",
    "\n",
    "    for x in dataset:\n",
    "        if x[\"gender\"]==\"Female\":\n",
    "            x[\"gender\"]=\"Femenino\"\n",
    "        elif x[\"gender\"]==\"Male\":\n",
    "            x[\"gender\"]=\"Masculino\"\n",
    "        elif x[\"gender\"]==\"Non-binary\":\n",
    "            x[\"gender\"]=\"No-binario\"\n",
    "        elif x[\"gender\"]==\"Polygender\":\n",
    "            x[\"gender\"]=\"Poligénero\"\n",
    "        elif x[\"gender\"]==\"Genderqueer\":\n",
    "            x[\"gender\"]=\"Género queer\"\n",
    "        elif x[\"gender\"]==\"Agender\":\n",
    "            x[\"gender\"]=\"Agénero\"\n",
    "        elif x[\"gender\"]==\"Bigender\":\n",
    "            x[\"gender\"]=\"Bigénero\"\n",
    "        elif x[\"gender\"]==\"Genderfluid\":\n",
    "            x[\"gender\"]=\"Género fluido\"\n",
    "\n",
    "    print(dataset)\n",
    "\n",
    "traduccion_gender(dataset_profesores)\n",
    "traduccion_gender(dataset_alumnos)"
   ]
  },
  {
   "cell_type": "markdown",
   "metadata": {},
   "source": [
    "#### Convertir los campos personal_id e instructor a número, eliminando los puntos"
   ]
  },
  {
   "cell_type": "code",
   "execution_count": null,
   "metadata": {},
   "outputs": [],
   "source": [
    "def conversion_dni_numero(dataset):\n",
    "    for x in dataset:\n",
    "        if \"personal_id\" in x:                   \n",
    "            j=x[\"personal_id\"].replace('.','')\n",
    "            x[\"personal_id\"]=j\n",
    "        if \"instructor\" in x:\n",
    "            j=x[\"instructor\"].replace('.','')\n",
    "            x[\"instructor\"]=j\n",
    "    print(dataset)\n",
    "    \n",
    "conversion_dni_numero(dataset_cursos_profesores)"
   ]
  },
  {
   "cell_type": "markdown",
   "metadata": {},
   "source": [
    "#### Eliminar registros repetidos en su totalidad o que tienen un campo repetido "
   ]
  },
  {
   "cell_type": "code",
   "execution_count": 7,
   "metadata": {},
   "outputs": [
    {
     "name": "stdout",
     "output_type": "stream",
     "text": [
      "[]\n",
      "[]\n",
      "[]\n"
     ]
    }
   ],
   "source": [
    "def eliminar_registros_repetidos_entotalidad(dataset):\n",
    "    lista_unica = set()   # conjunto con los registros únicos pero en forma de tuplas\n",
    "    nueva_lista = []    # lista con los registros únicos en forma de diccionarios\n",
    "    repetidos = []  # lista con los registros eliminados\n",
    "\n",
    "    for j in dataset:\n",
    "        t = tuple(j.items()) # convierte a la lista de tuplas de los pares clave-valor de cada registro en una tupla de tuplas\n",
    "        if t not in lista_unica: # si ese registro en forma de tupla de tuplas no está en el set lo agrega y a su \n",
    "                                 # vez agrega el registro en forma de diccionario a la lista\n",
    "            lista_unica.add(t)\n",
    "            nueva_lista.append(j)\n",
    "        else:\n",
    "            repetidos.append(j) \n",
    "\n",
    "    dataset=nueva_lista  \n",
    "    print(repetidos)\n",
    "\n",
    "eliminar_registros_repetidos_entotalidad(dataset_alumnos)\n",
    "    \n",
    "\n",
    "def eliminar_registros_repetidos_uncampo(dataset,campo):\n",
    "    valores_unicos = [] # crea una lista con todos los valores únicos del campo seleccionado\n",
    "    registros_repetidos = [] # crea una lista con todos los registros en los cuales en el campo seleccionado tengan un valor repetido\n",
    "    for x in dataset:\n",
    "        for i,j in x.items():      \n",
    "            if i==campo:          \n",
    "                if j not in valores_unicos:        \n",
    "                    valores_unicos.append(j)              \n",
    "                else:                         \n",
    "                    registros_repetidos.append(x)        \n",
    "    for x in dataset:   # se elimina del dataset todos aquellos registros que se encuentren en la lista de registros_repetidos\n",
    "        if x in registros_repetidos:\n",
    "            del dataset[dataset.index(x)]   \n",
    "    print(registros_repetidos) \n",
    "\n",
    "eliminar_registros_repetidos_uncampo(dataset_alumnos,\"id\")   \n",
    "\n",
    "\n",
    "def buscar_registros_repetidos_uncampo(dataset,campo): # esta función es por si no se quiere eliminar aquellos registros con \n",
    "                                                       # campos repetidos, sino que solamente se los quiere encontrar para quizás modificar el \n",
    "                                                       # campo antes que borrar todo el registro\n",
    "    valores_unicos = [] \n",
    "    registros_repetidos = [] \n",
    "    for x in dataset:\n",
    "        for i,j in x.items():      \n",
    "            if i==campo:          \n",
    "                if j not in valores_unicos:        \n",
    "                    valores_unicos.append(j)              \n",
    "                else:                         \n",
    "                    registros_repetidos.append(x)     \n",
    "    print(registros_repetidos)  \n",
    "\n",
    "buscar_registros_repetidos_uncampo(dataset_alumnos,\"id\") \n",
    "\n"
   ]
  },
  {
   "cell_type": "markdown",
   "metadata": {},
   "source": [
    "#### Para crear las tablas del archivo tablas"
   ]
  },
  {
   "cell_type": "code",
   "execution_count": null,
   "metadata": {},
   "outputs": [],
   "source": [
    "from Tablas import Base,engine,Profesores,Alumnos,Carreras,Profesores_Carreras,Alumnos_Carreras, Facultades,Ramas,Campus,Ubicacion,Genero\n",
    "db = engine.connect()\n",
    "Base.metadata.create_all(engine)"
   ]
  }
 ],
 "metadata": {
  "kernelspec": {
   "display_name": "Python 3.10.7 64-bit",
   "language": "python",
   "name": "python3"
  },
  "language_info": {
   "codemirror_mode": {
    "name": "ipython",
    "version": 3
   },
   "file_extension": ".py",
   "mimetype": "text/x-python",
   "name": "python",
   "nbconvert_exporter": "python",
   "pygments_lexer": "ipython3",
   "version": "3.10.7"
  },
  "orig_nbformat": 4,
  "vscode": {
   "interpreter": {
    "hash": "e913b7897ac30ba1cf0615ffc95e0dcac655edcf15ece0252fa093eec079069f"
   }
  }
 },
 "nbformat": 4,
 "nbformat_minor": 2
}
